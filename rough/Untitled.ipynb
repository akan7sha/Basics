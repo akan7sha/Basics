{
 "cells": [
  {
   "cell_type": "code",
   "execution_count": 1,
   "id": "46294cfe",
   "metadata": {},
   "outputs": [
    {
     "name": "stdout",
     "output_type": "stream",
     "text": [
      "I love you\n"
     ]
    }
   ],
   "source": [
    "file  = open('./1','r')\n",
    "print(file.read())"
   ]
  },
  {
   "cell_type": "code",
   "execution_count": 2,
   "id": "8712a330",
   "metadata": {},
   "outputs": [
    {
     "name": "stdout",
     "output_type": "stream",
     "text": [
      "I love You too\n"
     ]
    }
   ],
   "source": [
    "file = open('./2','r')\n",
    "print(file.read())"
   ]
  },
  {
   "cell_type": "code",
   "execution_count": 3,
   "id": "378a3ebe",
   "metadata": {},
   "outputs": [
    {
     "name": "stdout",
     "output_type": "stream",
     "text": [
      "Kb milege... I want to meet you\n"
     ]
    }
   ],
   "source": [
    "file = open('./3','r')\n",
    "print(file.read())"
   ]
  },
  {
   "cell_type": "code",
   "execution_count": 4,
   "id": "f6dcedea",
   "metadata": {},
   "outputs": [
    {
     "name": "stdout",
     "output_type": "stream",
     "text": [
      "Before Christmas\n"
     ]
    }
   ],
   "source": [
    "file = open('./4','r')\n",
    "print(file.read())"
   ]
  },
  {
   "cell_type": "code",
   "execution_count": 15,
   "id": "4d5e7589",
   "metadata": {},
   "outputs": [],
   "source": [
    "data = data2 = data3 = data4 = \"\"\n",
    "with open('1') as fp:\n",
    "    data = fp.read()\n",
    "with open('2') as fp:\n",
    "    data2 = fp.read()\n",
    "with open('3') as fp:\n",
    "    data3 = fp.read()\n",
    "with open('4') as fp:\n",
    "    data4 = fp.read()\n",
    "\n",
    "    \n",
    "#data +='\\n' \n",
    "data5 = data +'\\n'+ data2+'\\n' + data3+'\\n' + data4\n",
    "#data2 += data3\n",
    "#data3 += data4\n",
    "\n",
    "\n",
    "with open('5', 'w') as fp:\n",
    "    fp.write(data5)"
   ]
  },
  {
   "cell_type": "code",
   "execution_count": 16,
   "id": "f7952868",
   "metadata": {},
   "outputs": [
    {
     "name": "stdout",
     "output_type": "stream",
     "text": [
      "I love you\n",
      "I love You too\n",
      "Kb milege... I want to meet you\n",
      "Before Christmas\n"
     ]
    }
   ],
   "source": [
    "file = open('./5', 'r')\n",
    "print(file.read())"
   ]
  },
  {
   "cell_type": "markdown",
   "id": "da30300a",
   "metadata": {},
   "source": [
    "# input-folder path import\n",
    "files\n",
    "create new file to merge all the file"
   ]
  },
  {
   "cell_type": "code",
   "execution_count": null,
   "id": "fdd248a5",
   "metadata": {},
   "outputs": [],
   "source": []
  }
 ],
 "metadata": {
  "kernelspec": {
   "display_name": "Python 3",
   "language": "python",
   "name": "python3"
  },
  "language_info": {
   "codemirror_mode": {
    "name": "ipython",
    "version": 3
   },
   "file_extension": ".py",
   "mimetype": "text/x-python",
   "name": "python",
   "nbconvert_exporter": "python",
   "pygments_lexer": "ipython3",
   "version": "3.7.6"
  }
 },
 "nbformat": 4,
 "nbformat_minor": 5
}
