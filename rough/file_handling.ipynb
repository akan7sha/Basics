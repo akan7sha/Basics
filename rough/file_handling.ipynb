{
 "cells": [
  {
   "cell_type": "code",
   "execution_count": 20,
   "id": "564552eb",
   "metadata": {},
   "outputs": [
    {
     "name": "stdout",
     "output_type": "stream",
     "text": [
      "sub-directory created\n",
      "directory already exists\n",
      "sub-directory created\n",
      "directory already exists\n",
      "sub-directory created\n",
      "directory already exists\n",
      "sub-directory created\n",
      "directory already exists\n",
      "sub-directory created\n",
      "directory already exists\n",
      "sub-directory created\n",
      "directory already exists\n",
      "sub-directory created\n",
      "directory already exists\n",
      "sub-directory created\n",
      "directory already exists\n",
      "sub-directory created\n",
      "directory already exists\n",
      "sub-directory created\n",
      "directory already exists\n",
      "sub-directory created\n",
      "directory already exists\n",
      "sub-directory created\n",
      "directory already exists\n"
     ]
    },
    {
     "ename": "IndexError",
     "evalue": "list index out of range",
     "output_type": "error",
     "traceback": [
      "\u001b[0;31m---------------------------------------------------------------------------\u001b[0m",
      "\u001b[0;31mIndexError\u001b[0m                                Traceback (most recent call last)",
      "\u001b[0;32m<ipython-input-20-b5f61c227587>\u001b[0m in \u001b[0;36m<module>\u001b[0;34m\u001b[0m\n\u001b[1;32m     26\u001b[0m     \u001b[0mprint\u001b[0m\u001b[0;34m(\u001b[0m\u001b[0mos\u001b[0m\u001b[0;34m.\u001b[0m\u001b[0mlistdir\u001b[0m\u001b[0;34m(\u001b[0m\u001b[0;34m)\u001b[0m\u001b[0;34m)\u001b[0m\u001b[0;34m\u001b[0m\u001b[0;34m\u001b[0m\u001b[0m\n\u001b[1;32m     27\u001b[0m \u001b[0;34m\u001b[0m\u001b[0m\n\u001b[0;32m---> 28\u001b[0;31m \u001b[0mcreate_folder\u001b[0m\u001b[0;34m(\u001b[0m\u001b[0mfile_path\u001b[0m\u001b[0;34m)\u001b[0m\u001b[0;34m\u001b[0m\u001b[0;34m\u001b[0m\u001b[0m\n\u001b[0m",
      "\u001b[0;32m<ipython-input-20-b5f61c227587>\u001b[0m in \u001b[0;36mcreate_folder\u001b[0;34m(file_path)\u001b[0m\n\u001b[1;32m      5\u001b[0m \u001b[0;32mdef\u001b[0m \u001b[0mcreate_folder\u001b[0m\u001b[0;34m(\u001b[0m\u001b[0mfile_path\u001b[0m\u001b[0;34m)\u001b[0m\u001b[0;34m:\u001b[0m\u001b[0;34m\u001b[0m\u001b[0;34m\u001b[0m\u001b[0m\n\u001b[1;32m      6\u001b[0m     \u001b[0;32mfor\u001b[0m \u001b[0mi\u001b[0m \u001b[0;32min\u001b[0m \u001b[0mrange\u001b[0m\u001b[0;34m(\u001b[0m\u001b[0;36m0\u001b[0m\u001b[0;34m,\u001b[0m\u001b[0mlen\u001b[0m\u001b[0;34m(\u001b[0m\u001b[0mfile_path\u001b[0m\u001b[0;34m)\u001b[0m\u001b[0;34m)\u001b[0m\u001b[0;34m:\u001b[0m\u001b[0;34m\u001b[0m\u001b[0;34m\u001b[0m\u001b[0m\n\u001b[0;32m----> 7\u001b[0;31m         \u001b[0;32mfor\u001b[0m \u001b[0mj\u001b[0m \u001b[0;32min\u001b[0m \u001b[0mrange\u001b[0m\u001b[0;34m(\u001b[0m\u001b[0;36m0\u001b[0m\u001b[0;34m,\u001b[0m\u001b[0mlen\u001b[0m\u001b[0;34m(\u001b[0m\u001b[0mdata\u001b[0m\u001b[0;34m[\u001b[0m\u001b[0mi\u001b[0m\u001b[0;34m]\u001b[0m\u001b[0;34m)\u001b[0m\u001b[0;34m)\u001b[0m\u001b[0;34m:\u001b[0m\u001b[0;34m\u001b[0m\u001b[0;34m\u001b[0m\u001b[0m\n\u001b[0m\u001b[1;32m      8\u001b[0m             \u001b[0;31m#name of the subdirectory\u001b[0m\u001b[0;34m\u001b[0m\u001b[0;34m\u001b[0m\u001b[0;34m\u001b[0m\u001b[0m\n\u001b[1;32m      9\u001b[0m             \u001b[0msub_dir_name\u001b[0m \u001b[0;34m=\u001b[0m \u001b[0mstr\u001b[0m\u001b[0;34m(\u001b[0m\u001b[0mfile_path\u001b[0m\u001b[0;34m)\u001b[0m \u001b[0;34m+\u001b[0m \u001b[0;34m'_'\u001b[0m \u001b[0;34m+\u001b[0m \u001b[0mstr\u001b[0m\u001b[0;34m(\u001b[0m\u001b[0mdata\u001b[0m\u001b[0;34m[\u001b[0m\u001b[0mi\u001b[0m\u001b[0;34m]\u001b[0m\u001b[0;34m)\u001b[0m\u001b[0;34m\u001b[0m\u001b[0;34m\u001b[0m\u001b[0m\n",
      "\u001b[0;31mIndexError\u001b[0m: list index out of range"
     ]
    }
   ],
   "source": [
    "#create folder(data) and subfolders(A, B, c,....L) as data_isl_A\n",
    "import os\n",
    "file_path = './data/data_isl'\n",
    "data = ['A','B','C','D','E','F','G','H','I','J','K','L']\n",
    "def create_folder(file_path):\n",
    "    for i in range(0,len(file_path)):\n",
    "        for j in range(0,len(data[i])):\n",
    "            #name of the subdirectory\n",
    "            sub_dir_name = str(file_path) + '_' + str(data[i])  \n",
    "            try:\n",
    "                #create subdirectory by using makedirs\n",
    "                os.makedirs(sub_dir_name)\n",
    "                print(\"sub-directory created\")\n",
    "            except FileExistsError:\n",
    "                print(\"file already exists\")\n",
    "            \n",
    "            #if the subdirectory exists or not\n",
    "            if not os.path.exists(sub_dir_name):\n",
    "                os.makedirs(sub_dir_name)\n",
    "                print(\"new-directory created\")\n",
    "            else:\n",
    "                print(\"directory already exists\")\n",
    "                \n",
    "                \n",
    "                \n",
    "    print(os.listdir())\n",
    "    \n",
    "create_folder(file_path)"
   ]
  },
  {
   "cell_type": "raw",
   "id": "8376c67a",
   "metadata": {},
   "source": [
    "#remove directory if falls out of range"
   ]
  },
  {
   "cell_type": "code",
   "execution_count": 22,
   "id": "06b8e425",
   "metadata": {},
   "outputs": [
    {
     "name": "stdout",
     "output_type": "stream",
     "text": [
      "['data_isl_A', 'data_isl_B', 'data_isl_C', 'data_isl_D', 'data_isl_E', 'data_isl_F', 'data_isl_G', 'data_isl_H', 'data_isl_I', 'data_isl_J', 'data_isl_K', 'data_isl_L']\n",
      "data_isl_H\n",
      "data_isl_H\n",
      "data_isl_A\n",
      "data_isl_A\n",
      "untitled folder 5\n",
      "......removing....unwanted files\n",
      "untitled folder 2\n",
      "......removing....unwanted files\n",
      "data_isl_F\n",
      "data_isl_F\n",
      "data_isl_G\n",
      "data_isl_G\n",
      "untitled folder 3\n",
      "......removing....unwanted files\n",
      "untitled folder 4\n",
      "......removing....unwanted files\n",
      "data_isl_I\n",
      "data_isl_I\n",
      "data_isl_K\n",
      "data_isl_K\n",
      "data_isl_L\n",
      "data_isl_L\n",
      "data_isl_E\n",
      "data_isl_E\n",
      "data_isl_B\n",
      "data_isl_B\n",
      "untitled folder 6\n",
      "......removing....unwanted files\n",
      "data_isl_C\n",
      "data_isl_C\n",
      "data_isl_D\n",
      "data_isl_D\n",
      "data_isl_J\n",
      "data_isl_J\n"
     ]
    }
   ],
   "source": [
    "import shutil\n",
    "file_path = '/Users/akashdeeptyagi/Desktop/Ad_hoc/rough/data/'\n",
    "#print(len(file_path))\n",
    "files = os.listdir('data')\n",
    "#print(files)\n",
    "data = ['A','B','C','D','E','F','G','H','I','J','K','L']\n",
    "data= [\"data_isl_\" + x for x in data]\n",
    "print(data)\n",
    "def delete_folder(file_path):\n",
    "    for i in os.listdir(file_path):\n",
    "        #folder name = \"data_isl_\" + i \n",
    "        print(i)\n",
    "        if i in data:\n",
    "            print(i)\n",
    "        else:\n",
    "            os.rmdir(os.path.join(file_path, i))\n",
    "            print(\"......removing....unwanted files\")\n",
    "\n",
    "delete_folder(file_path)"
   ]
  },
  {
   "cell_type": "code",
   "execution_count": 43,
   "id": "2a342de0",
   "metadata": {},
   "outputs": [],
   "source": [
    "#mutable-the value is updated at the same memory location\n",
    "a = []"
   ]
  },
  {
   "cell_type": "code",
   "execution_count": 24,
   "id": "9631d05c",
   "metadata": {},
   "outputs": [
    {
     "data": {
      "text/plain": [
       "list"
      ]
     },
     "execution_count": 24,
     "metadata": {},
     "output_type": "execute_result"
    }
   ],
   "source": [
    "type(a)"
   ]
  },
  {
   "cell_type": "code",
   "execution_count": 26,
   "id": "1c8b0f11",
   "metadata": {},
   "outputs": [
    {
     "name": "stdout",
     "output_type": "stream",
     "text": [
      "140461820216416\n"
     ]
    }
   ],
   "source": [
    "print(id(a))"
   ]
  },
  {
   "cell_type": "code",
   "execution_count": 29,
   "id": "659f332f",
   "metadata": {},
   "outputs": [],
   "source": [
    "a.append(['tinno'])"
   ]
  },
  {
   "cell_type": "code",
   "execution_count": 30,
   "id": "443b5afe",
   "metadata": {},
   "outputs": [
    {
     "data": {
      "text/plain": [
       "list"
      ]
     },
     "execution_count": 30,
     "metadata": {},
     "output_type": "execute_result"
    }
   ],
   "source": [
    "type(a)"
   ]
  },
  {
   "cell_type": "code",
   "execution_count": 31,
   "id": "59d7b2ea",
   "metadata": {},
   "outputs": [
    {
     "data": {
      "text/plain": [
       "1"
      ]
     },
     "execution_count": 31,
     "metadata": {},
     "output_type": "execute_result"
    }
   ],
   "source": [
    "len(a)"
   ]
  },
  {
   "cell_type": "code",
   "execution_count": 32,
   "id": "ffa482b4",
   "metadata": {},
   "outputs": [
    {
     "data": {
      "text/plain": [
       "140461820216416"
      ]
     },
     "execution_count": 32,
     "metadata": {},
     "output_type": "execute_result"
    }
   ],
   "source": [
    "id(a)"
   ]
  },
  {
   "cell_type": "code",
   "execution_count": 42,
   "id": "339fba63",
   "metadata": {},
   "outputs": [],
   "source": [
    "#immutable-the value cannot be updated at the same memory location\n",
    "a = \"siddharth\""
   ]
  },
  {
   "cell_type": "code",
   "execution_count": 35,
   "id": "1d50fd20",
   "metadata": {},
   "outputs": [
    {
     "data": {
      "text/plain": [
       "str"
      ]
     },
     "execution_count": 35,
     "metadata": {},
     "output_type": "execute_result"
    }
   ],
   "source": [
    "type(a)"
   ]
  },
  {
   "cell_type": "code",
   "execution_count": 36,
   "id": "551ce271",
   "metadata": {},
   "outputs": [
    {
     "data": {
      "text/plain": [
       "140461820378800"
      ]
     },
     "execution_count": 36,
     "metadata": {},
     "output_type": "execute_result"
    }
   ],
   "source": [
    "id(a)"
   ]
  },
  {
   "cell_type": "code",
   "execution_count": 37,
   "id": "a2179b44",
   "metadata": {},
   "outputs": [],
   "source": [
    "a = a + \"tinny\""
   ]
  },
  {
   "cell_type": "code",
   "execution_count": 38,
   "id": "6954483c",
   "metadata": {},
   "outputs": [
    {
     "name": "stdout",
     "output_type": "stream",
     "text": [
      "siddharthtinny\n"
     ]
    }
   ],
   "source": [
    "print(a)"
   ]
  },
  {
   "cell_type": "code",
   "execution_count": 39,
   "id": "48d89b45",
   "metadata": {},
   "outputs": [
    {
     "data": {
      "text/plain": [
       "str"
      ]
     },
     "execution_count": 39,
     "metadata": {},
     "output_type": "execute_result"
    }
   ],
   "source": [
    "type(a)"
   ]
  },
  {
   "cell_type": "code",
   "execution_count": 40,
   "id": "7870d14b",
   "metadata": {},
   "outputs": [
    {
     "data": {
      "text/plain": [
       "140461819435184"
      ]
     },
     "execution_count": 40,
     "metadata": {},
     "output_type": "execute_result"
    }
   ],
   "source": [
    "id(a)"
   ]
  },
  {
   "cell_type": "code",
   "execution_count": null,
   "id": "799d1b09",
   "metadata": {},
   "outputs": [],
   "source": []
  }
 ],
 "metadata": {
  "kernelspec": {
   "display_name": "Python 3",
   "language": "python",
   "name": "python3"
  },
  "language_info": {
   "codemirror_mode": {
    "name": "ipython",
    "version": 3
   },
   "file_extension": ".py",
   "mimetype": "text/x-python",
   "name": "python",
   "nbconvert_exporter": "python",
   "pygments_lexer": "ipython3",
   "version": "3.7.6"
  }
 },
 "nbformat": 4,
 "nbformat_minor": 5
}
