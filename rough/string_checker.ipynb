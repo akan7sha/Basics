{
 "cells": [
  {
   "cell_type": "code",
   "execution_count": 40,
   "id": "5814fdac",
   "metadata": {},
   "outputs": [
    {
     "data": {
      "text/plain": [
       "False"
      ]
     },
     "execution_count": 40,
     "metadata": {},
     "output_type": "execute_result"
    }
   ],
   "source": [
    "def is_string_even(input_string):\n",
    "    \n",
    "    return len(input_string)%2 == 0\n",
    "\n",
    "res = is_string_even(\"AACCDEG\")\n",
    "res"
   ]
  },
  {
   "cell_type": "code",
   "execution_count": 31,
   "id": "e152d040",
   "metadata": {},
   "outputs": [
    {
     "data": {
      "text/plain": [
       "False"
      ]
     },
     "execution_count": 31,
     "metadata": {},
     "output_type": "execute_result"
    }
   ],
   "source": [
    "def is_string_reverse_same(input_string):\n",
    "    j = len(input_string)\n",
    "    for i in range(0,len(input_string)-1):\n",
    "        while j > 1:\n",
    "            j = j-1\n",
    "            return input_string[i] == input_string[j]\n",
    "                \n",
    "res = is_string_reverse_same(\"PAPA\")\n",
    "res"
   ]
  },
  {
   "cell_type": "code",
   "execution_count": 28,
   "id": "cd137fb3",
   "metadata": {},
   "outputs": [
    {
     "name": "stdout",
     "output_type": "stream",
     "text": [
      "hellloo 3\n",
      "A P P A\n",
      "A P P A\n"
     ]
    }
   ],
   "source": [
    "s = \"APPA\"\n",
    "j = len(s)-1\n",
    "print(\"hellloo\", j)\n",
    "print(s[-4],s[-3],s[-2],s[-1])\n",
    "print(s[0],s[1],s[2],s[3])\n"
   ]
  },
  {
   "cell_type": "code",
   "execution_count": 20,
   "id": "26fe31d7",
   "metadata": {},
   "outputs": [
    {
     "name": "stdout",
     "output_type": "stream",
     "text": [
      "1\n",
      "2\n",
      "3\n",
      "4\n",
      "5\n",
      "6\n",
      "7\n",
      "8\n",
      "9\n"
     ]
    }
   ],
   "source": [
    "for i in range(1,10):\n",
    "    print(i)\n",
    "    "
   ]
  },
  {
   "cell_type": "code",
   "execution_count": 7,
   "id": "1f66d7d9",
   "metadata": {},
   "outputs": [
    {
     "name": "stdout",
     "output_type": "stream",
     "text": [
      "9\n",
      "8\n",
      "7\n",
      "6\n",
      "5\n",
      "4\n",
      "3\n",
      "2\n",
      "1\n"
     ]
    }
   ],
   "source": [
    "j = 10\n",
    "while j >1:\n",
    "    j = j-1\n",
    "    print(j)"
   ]
  },
  {
   "cell_type": "code",
   "execution_count": null,
   "id": "2d7d2efd",
   "metadata": {},
   "outputs": [],
   "source": []
  }
 ],
 "metadata": {
  "kernelspec": {
   "display_name": "Python 3",
   "language": "python",
   "name": "python3"
  },
  "language_info": {
   "codemirror_mode": {
    "name": "ipython",
    "version": 3
   },
   "file_extension": ".py",
   "mimetype": "text/x-python",
   "name": "python",
   "nbconvert_exporter": "python",
   "pygments_lexer": "ipython3",
   "version": "3.7.6"
  }
 },
 "nbformat": 4,
 "nbformat_minor": 5
}
