{
 "cells": [
  {
   "cell_type": "code",
   "execution_count": 67,
   "id": "6c62ac06",
   "metadata": {},
   "outputs": [
    {
     "name": "stdout",
     "output_type": "stream",
     "text": [
      "kS\n"
     ]
    }
   ],
   "source": [
    "def occ_freq(input_string, index1,index2):\n",
    "     \n",
    "    a = input_string[index1]\n",
    "    print(id(a))\n",
    "    b = input_string[index2]\n",
    "    c = b.upper()\n",
    "    return a+c\n",
    "      \n",
    "a = occ_freq(\"Akansha\",1,4)\n",
    "print(a)"
   ]
  },
  {
   "cell_type": "code",
   "execution_count": null,
   "id": "014e7a50",
   "metadata": {},
   "outputs": [],
   "source": []
  },
  {
   "cell_type": "code",
   "execution_count": 63,
   "id": "3503e009",
   "metadata": {},
   "outputs": [
    {
     "name": "stdout",
     "output_type": "stream",
     "text": [
      "WILL YOU MARRY ME, OFFCOURSE I WILL, FOR THE NEXT SEVEN LIVES\n"
     ]
    }
   ],
   "source": [
    "sid = \"will you marry me, offcourse i will, for the next seven lives\"\n",
    "ak = sid.upper()\n",
    "print(ak)\n",
    "\n"
   ]
  },
  {
   "cell_type": "code",
   "execution_count": 65,
   "id": "666841d6",
   "metadata": {},
   "outputs": [
    {
     "name": "stdout",
     "output_type": "stream",
     "text": [
      "<class 'str'>\n"
     ]
    }
   ],
   "source": [
    "sid = \"w\"\n",
    "a = sid.upper()\n",
    "print(type(a))"
   ]
  },
  {
   "cell_type": "code",
   "execution_count": 43,
   "id": "25ccea62",
   "metadata": {},
   "outputs": [
    {
     "name": "stdout",
     "output_type": "stream",
     "text": [
      "aisa lgta h khatarnaak teacher\n"
     ]
    }
   ],
   "source": [
    "print(\"aisa lgta h khatarnaak teacher\")"
   ]
  },
  {
   "cell_type": "code",
   "execution_count": 45,
   "id": "88e02884",
   "metadata": {},
   "outputs": [
    {
     "data": {
      "text/plain": [
       "'haa'"
      ]
     },
     "execution_count": 45,
     "metadata": {},
     "output_type": "execute_result"
    }
   ],
   "source": [
    "\"haa\""
   ]
  },
  {
   "cell_type": "code",
   "execution_count": 50,
   "id": "f1939c25",
   "metadata": {},
   "outputs": [
    {
     "name": "stdout",
     "output_type": "stream",
     "text": [
      "['helllo']\n"
     ]
    }
   ],
   "source": [
    "li = \"helllo\"\n",
    "c = li.split(',')\n",
    "print(c)"
   ]
  },
  {
   "cell_type": "code",
   "execution_count": 123,
   "id": "99033fb9",
   "metadata": {},
   "outputs": [
    {
     "ename": "KeyError",
     "evalue": "0",
     "output_type": "error",
     "traceback": [
      "\u001b[0;31m---------------------------------------------------------------------------\u001b[0m",
      "\u001b[0;31mKeyError\u001b[0m                                  Traceback (most recent call last)",
      "\u001b[0;32m<ipython-input-123-dd4fb2689801>\u001b[0m in \u001b[0;36m<module>\u001b[0;34m\u001b[0m\n\u001b[1;32m     28\u001b[0m \u001b[0;34m\u001b[0m\u001b[0m\n\u001b[1;32m     29\u001b[0m \u001b[0;34m\u001b[0m\u001b[0m\n\u001b[0;32m---> 30\u001b[0;31m \u001b[0mcreate_dict\u001b[0m\u001b[0;34m(\u001b[0m\u001b[0;34m\"AABBAAC\"\u001b[0m\u001b[0;34m)\u001b[0m\u001b[0;34m\u001b[0m\u001b[0;34m\u001b[0m\u001b[0m\n\u001b[0m\u001b[1;32m     31\u001b[0m \u001b[0;34m\u001b[0m\u001b[0m\n",
      "\u001b[0;32m<ipython-input-123-dd4fb2689801>\u001b[0m in \u001b[0;36mcreate_dict\u001b[0;34m(input_string)\u001b[0m\n\u001b[1;32m     11\u001b[0m \u001b[0;34m\u001b[0m\u001b[0m\n\u001b[1;32m     12\u001b[0m         \u001b[0;32melif\u001b[0m \u001b[0minput_string\u001b[0m\u001b[0;34m[\u001b[0m\u001b[0mi\u001b[0m\u001b[0;34m]\u001b[0m \u001b[0;34m==\u001b[0m \u001b[0minput_string\u001b[0m\u001b[0;34m[\u001b[0m\u001b[0mi\u001b[0m\u001b[0;34m+\u001b[0m\u001b[0;36m1\u001b[0m\u001b[0;34m]\u001b[0m\u001b[0;34m:\u001b[0m\u001b[0;34m\u001b[0m\u001b[0;34m\u001b[0m\u001b[0m\n\u001b[0;32m---> 13\u001b[0;31m             \u001b[0mdict_list\u001b[0m\u001b[0;34m[\u001b[0m\u001b[0mi\u001b[0m\u001b[0;34m]\u001b[0m\u001b[0;34m.\u001b[0m\u001b[0mappend\u001b[0m\u001b[0;34m(\u001b[0m\u001b[0mcount\u001b[0m\u001b[0;34m)\u001b[0m\u001b[0;34m\u001b[0m\u001b[0;34m\u001b[0m\u001b[0m\n\u001b[0m\u001b[1;32m     14\u001b[0m             \u001b[0mcount\u001b[0m  \u001b[0;34m+=\u001b[0m \u001b[0;36m1\u001b[0m\u001b[0;34m\u001b[0m\u001b[0;34m\u001b[0m\u001b[0m\n\u001b[1;32m     15\u001b[0m             \u001b[0;31m#dict_list[i]  =\u001b[0m\u001b[0;34m\u001b[0m\u001b[0;34m\u001b[0m\u001b[0;34m\u001b[0m\u001b[0m\n",
      "\u001b[0;31mKeyError\u001b[0m: 0"
     ]
    }
   ],
   "source": [
    "def create_dict(input_string):\n",
    "    dict_list = {}\n",
    "    count = 1\n",
    "    for i in range(0, len(input_string)):\n",
    "        \n",
    "        #print(i)\n",
    "        if i == len(input_string)-1:\n",
    "            dict_list[i].append(count)\n",
    "            count  += 1\n",
    "            break\n",
    "        \n",
    "        elif input_string[i] == input_string[i+1]:\n",
    "            \n",
    "            #dict_list[i].append(count)\n",
    "            count  += 1\n",
    "            #dict_list[i]  = \n",
    "            #dict_list.key = {input_string[i]}\n",
    "            #dict_list.value = {count}\n",
    "            #dict_list.add(dict_list.key(),dict_list.value())\n",
    "            \n",
    "        else:\n",
    "            count = 1\n",
    "            #dict_list[i]  = (count)\n",
    "            \n",
    "            #dict_list[i] = 1\n",
    "    \n",
    "    return dict_list    \n",
    "    \n",
    "            \n",
    "        \n",
    "create_dict(\"AABBAAC\")\n",
    "        "
   ]
  },
  {
   "cell_type": "code",
   "execution_count": 135,
   "id": "1395722e",
   "metadata": {},
   "outputs": [
    {
     "data": {
      "text/plain": [
       "{'A': 7, 'C': 2, 'D': 1, 'd': 1}"
      ]
     },
     "execution_count": 135,
     "metadata": {},
     "output_type": "execute_result"
    }
   ],
   "source": [
    "def get_character_by_count(input_string):\n",
    "    out_dict = {}\n",
    "    for i in input_string:\n",
    "        #print(i)\n",
    "        if (i in out_dict):\n",
    "            out_dict[i] += 1\n",
    "            #print(\"heeeeeee\")\n",
    "        else:\n",
    "            out_dict[i]  = 1\n",
    "            #print(\"sheeeeee\")\n",
    "    \n",
    "    return out_dict\n",
    "\n",
    "get_character_by_count(\"AAAACCAAADd\")"
   ]
  },
  {
   "cell_type": "code",
   "execution_count": 192,
   "id": "c8c85900",
   "metadata": {},
   "outputs": [
    {
     "name": "stdout",
     "output_type": "stream",
     "text": [
      "10\n",
      "9\n",
      "8\n",
      "7\n",
      "6\n",
      "4\n",
      "3\n",
      "2\n",
      "1\n"
     ]
    }
   ],
   "source": [
    "def reverse_string(input_string):\n",
    "    i = 10\n",
    "    while i >= 1:\n",
    "        if i != 5:\n",
    "            print(i)\n",
    "        i = i-1\n",
    "            #print(i)\n",
    "            #(0,len(input_string)):\n",
    "        \n",
    "\n",
    "reverse_string(\"abc def\")"
   ]
  },
  {
   "cell_type": "code",
   "execution_count": 273,
   "id": "885bf4ca",
   "metadata": {},
   "outputs": [
    {
     "ename": "TypeError",
     "evalue": "'>=' not supported between instances of 'str' and 'int'",
     "output_type": "error",
     "traceback": [
      "\u001b[0;31m---------------------------------------------------------------------------\u001b[0m",
      "\u001b[0;31mTypeError\u001b[0m                                 Traceback (most recent call last)",
      "\u001b[0;32m<ipython-input-273-bbf442082128>\u001b[0m in \u001b[0;36m<module>\u001b[0;34m\u001b[0m\n\u001b[1;32m      9\u001b[0m \u001b[0;34m\u001b[0m\u001b[0m\n\u001b[1;32m     10\u001b[0m \u001b[0;34m\u001b[0m\u001b[0m\n\u001b[0;32m---> 11\u001b[0;31m \u001b[0mreverse_string\u001b[0m\u001b[0;34m(\u001b[0m\u001b[0;34m\"abc def\"\u001b[0m\u001b[0;34m)\u001b[0m\u001b[0;34m\u001b[0m\u001b[0;34m\u001b[0m\u001b[0m\n\u001b[0m",
      "\u001b[0;32m<ipython-input-273-bbf442082128>\u001b[0m in \u001b[0;36mreverse_string\u001b[0;34m(input_string)\u001b[0m\n\u001b[1;32m      3\u001b[0m     \u001b[0;32mfor\u001b[0m \u001b[0mi\u001b[0m \u001b[0;32min\u001b[0m \u001b[0minput_string\u001b[0m\u001b[0;34m:\u001b[0m\u001b[0;34m\u001b[0m\u001b[0;34m\u001b[0m\u001b[0m\n\u001b[1;32m      4\u001b[0m         \u001b[0;31m#print(i)\u001b[0m\u001b[0;34m\u001b[0m\u001b[0;34m\u001b[0m\u001b[0;34m\u001b[0m\u001b[0m\n\u001b[0;32m----> 5\u001b[0;31m         \u001b[0;32mwhile\u001b[0m \u001b[0mi\u001b[0m \u001b[0;34m>=\u001b[0m \u001b[0;36m1\u001b[0m\u001b[0;34m:\u001b[0m\u001b[0;34m\u001b[0m\u001b[0;34m\u001b[0m\u001b[0m\n\u001b[0m\u001b[1;32m      6\u001b[0m             \u001b[0minput_string\u001b[0m\u001b[0;34m[\u001b[0m\u001b[0;34m-\u001b[0m\u001b[0mi\u001b[0m\u001b[0;34m]\u001b[0m\u001b[0;34m\u001b[0m\u001b[0;34m\u001b[0m\u001b[0m\n\u001b[1;32m      7\u001b[0m             \u001b[0mprint\u001b[0m\u001b[0;34m(\u001b[0m\u001b[0minput_string\u001b[0m\u001b[0;34m[\u001b[0m\u001b[0mi\u001b[0m\u001b[0;34m]\u001b[0m\u001b[0;34m)\u001b[0m\u001b[0;34m\u001b[0m\u001b[0;34m\u001b[0m\u001b[0m\n",
      "\u001b[0;31mTypeError\u001b[0m: '>=' not supported between instances of 'str' and 'int'"
     ]
    }
   ],
   "source": [
    "def reverse_string(input_string):\n",
    "    i = len(input_string)-1\n",
    "    #for i in input_string:\n",
    "        #print(i)\n",
    "        while i >= 1:\n",
    "            input_string[-i]\n",
    "            print(input_string[i])    \n",
    "        \n",
    "    \n",
    "        \n",
    "reverse_string(\"abc def\")"
   ]
  },
  {
   "cell_type": "code",
   "execution_count": 159,
   "id": "a99100ef",
   "metadata": {},
   "outputs": [
    {
     "name": "stdout",
     "output_type": "stream",
     "text": [
      "range(10, 0)\n"
     ]
    }
   ],
   "source": [
    "op = range(10,0)\n",
    "print(op)"
   ]
  },
  {
   "cell_type": "code",
   "execution_count": 161,
   "id": "679900a8",
   "metadata": {},
   "outputs": [
    {
     "data": {
      "text/plain": [
       "range"
      ]
     },
     "execution_count": 161,
     "metadata": {},
     "output_type": "execute_result"
    }
   ],
   "source": [
    "type(range(0,10))"
   ]
  },
  {
   "cell_type": "code",
   "execution_count": 221,
   "id": "6519f742",
   "metadata": {},
   "outputs": [],
   "source": [
    "def reverse_string(input_string):\n",
    "    \n",
    "    i = len(input_string)-1\n",
    "    for i in range(0,len(input_string)):\n",
    "        \n",
    "\n",
    "    #while i >= 1:\n",
    "        #print(input_string[i])\n",
    "        input_string[i] == input_string[-i]\n",
    "        #i -= input_string[i]\n",
    "        \n",
    "\n",
    "    \n",
    "reverse_string(\"abc def\")"
   ]
  },
  {
   "cell_type": "code",
   "execution_count": 252,
   "id": "745870c3",
   "metadata": {},
   "outputs": [
    {
     "name": "stdout",
     "output_type": "stream",
     "text": [
      "a\n"
     ]
    }
   ],
   "source": [
    "input_string = \"hjjfksla\"\n",
    "input_string[-1]\n",
    "print(input_string[-1])"
   ]
  },
  {
   "cell_type": "code",
   "execution_count": null,
   "id": "d78b2079",
   "metadata": {},
   "outputs": [],
   "source": [
    "'a'-1\n"
   ]
  },
  {
   "cell_type": "code",
   "execution_count": 315,
   "id": "28f1fddb",
   "metadata": {},
   "outputs": [
    {
     "name": "stdout",
     "output_type": "stream",
     "text": [
      "DCBBAA\n",
      "<class 'str'>\n"
     ]
    }
   ],
   "source": [
    "def reverse_string(input_string):\n",
    "    i = len(input_string)-1\n",
    "    out_list = []\n",
    "    out_str  = \"\"\n",
    "    #print(i)\n",
    "    \n",
    "    while i >= 0:\n",
    "        out_list.append(input_string[i])\n",
    "        i = i -1\n",
    "        \n",
    "        #print(s)\n",
    "        \n",
    "    return out_str.join(out_list)\n",
    "   \n",
    "        \n",
    "out  =  reverse_string(\"AABBCD\")\n",
    "print(out)\n",
    "print(type(out))"
   ]
  },
  {
   "cell_type": "code",
   "execution_count": 329,
   "id": "7c0cb6c6",
   "metadata": {},
   "outputs": [
    {
     "name": "stdout",
     "output_type": "stream",
     "text": [
      "A2D2C3\n",
      "<class 'str'>\n"
     ]
    }
   ],
   "source": [
    "def count_occurence(input_string):\n",
    "    out_list = []\n",
    "    count = 1\n",
    "    str_occ = \"\"\n",
    "    \n",
    "    for i in range(0,len(input_string)-1):\n",
    "        #print(i)\n",
    "        if i == len(input_string)-1:\n",
    "            out_list.append(input_string[i])\n",
    "            out_list.append(str(count))\n",
    "            count = 1\n",
    "            #print(\"i am in 1st if........\")\n",
    "        elif input_string[i] != input_string[i+1]:\n",
    "            out_list.append(input_string[i])\n",
    "            out_list.append(str(count))\n",
    "            #print(\"i am in elifffff............\")\n",
    "            count = 1\n",
    "        else:\n",
    "            count += 1\n",
    "            #print(\"i am in else......\")\n",
    "            \n",
    "    return str_occ.join(out_list)\n",
    "            \n",
    "        \n",
    "freq = count_occurence(\"AADDCCCB\")\n",
    "print(freq)\n",
    "print(type(freq))"
   ]
  },
  {
   "cell_type": "code",
   "execution_count": null,
   "id": "29c28581",
   "metadata": {},
   "outputs": [],
   "source": []
  }
 ],
 "metadata": {
  "kernelspec": {
   "display_name": "Python 3",
   "language": "python",
   "name": "python3"
  },
  "language_info": {
   "codemirror_mode": {
    "name": "ipython",
    "version": 3
   },
   "file_extension": ".py",
   "mimetype": "text/x-python",
   "name": "python",
   "nbconvert_exporter": "python",
   "pygments_lexer": "ipython3",
   "version": "3.7.6"
  }
 },
 "nbformat": 4,
 "nbformat_minor": 5
}
